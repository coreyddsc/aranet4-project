{
 "cells": [
  {
   "cell_type": "markdown",
   "metadata": {},
   "source": [
    "# Aranet Time-series Feature Extraction\n",
    "The purpose of this notebook is to use feature extraction methods for picking our strongest regressors for predicting sequential time-series data for co2 levels.\n",
    "\n"
   ]
  },
  {
   "cell_type": "code",
   "execution_count": 1,
   "metadata": {},
   "outputs": [],
   "source": [
    "import pandas as pd\n",
    "import numpy as np\n",
    "import matplotlib.pyplot as plt\n",
    "import datetime as datetime"
   ]
  },
  {
   "cell_type": "markdown",
   "metadata": {},
   "source": [
    "# Load Data"
   ]
  },
  {
   "cell_type": "code",
   "execution_count": 2,
   "metadata": {},
   "outputs": [],
   "source": [
    "# Load the data from the CSV file\n",
    "aranet4 = pd.read_csv('../datasets/aranet4.csv')\n",
    "aranetExp = pd.read_csv('../datasets/aranetExp.csv')\n",
    "\n",
    "# Convert the date column to datetime\n",
    "aranetExp['date'] = pd.to_datetime(aranetExp['date'])\n",
    "aranetExp = aranetExp.rename(columns={'date': 'Datetime'})\n",
    "aranetExp = aranetExp.drop(columns=['id','time'])\n",
    "aranetExp = aranetExp.set_index('Datetime')\n",
    "\n",
    "# Convert the date column to datetime \n",
    "aranet4['Datetime'] = pd.to_datetime(aranet4['Datetime'])\n",
    "aranet4 = aranet4.set_index('Datetime')"
   ]
  },
  {
   "cell_type": "code",
   "execution_count": null,
   "metadata": {},
   "outputs": [],
   "source": []
  }
 ],
 "metadata": {
  "kernelspec": {
   "display_name": "Python 3",
   "language": "python",
   "name": "python3"
  },
  "language_info": {
   "codemirror_mode": {
    "name": "ipython",
    "version": 3
   },
   "file_extension": ".py",
   "mimetype": "text/x-python",
   "name": "python",
   "nbconvert_exporter": "python",
   "pygments_lexer": "ipython3",
   "version": "3.9.7"
  }
 },
 "nbformat": 4,
 "nbformat_minor": 2
}
