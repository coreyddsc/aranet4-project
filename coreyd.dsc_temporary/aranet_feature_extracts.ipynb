{
 "cells": [
  {
   "cell_type": "markdown",
   "metadata": {},
   "source": [
    "# Aranet Time-series Feature Extraction\n",
    "The purpose of this notebook is to use feature extraction methods for picking our strongest regressors for predicting sequential time-series data for co2 levels.\n",
    "\n"
   ]
  },
  {
   "cell_type": "code",
   "execution_count": 479,
   "metadata": {},
   "outputs": [],
   "source": [
    "import pandas as pd\n",
    "import numpy as np\n",
    "import matplotlib.pyplot as plt\n",
    "import datetime as datetime"
   ]
  },
  {
   "cell_type": "markdown",
   "metadata": {},
   "source": [
    "# Load Data"
   ]
  },
  {
   "cell_type": "code",
   "execution_count": 480,
   "metadata": {},
   "outputs": [
    {
     "name": "stdout",
     "output_type": "stream",
     "text": [
      "Label: Chen, Number of windows: 12\n",
      "Label: Song, Number of windows: 13\n"
     ]
    }
   ],
   "source": [
    "# Load the .npz file\n",
    "loaded_data = np.load('../datasets/windows.npz', allow_pickle=True)\n",
    "\n",
    "# Convert the loaded data back to a dictionary of lists of NumPy arrays, excluding 'column_names'\n",
    "windows = {label: list(arrays) for label, arrays in loaded_data.items() if label != 'column_names'}\n",
    "\n",
    "\n",
    "for label, windows_list in windows.items():\n",
    "    print(f\"Label: {label}, Number of windows: {len(windows_list)}\")\n",
    "\n",
    "# Extract the column names\n",
    "column_names = loaded_data['column_names']\n",
    "\n",
    "# Convert the loaded data back to a dictionary of lists of DataFrames, using the column names\n",
    "windows_df = {label: [pd.DataFrame(array, columns=column_names) for array in arrays_list] \n",
    "              for label, arrays_list in loaded_data.items() if label != 'column_names'}\n",
    "\n",
    "# Loop through windows_df and set 'Datetime' as the index\n",
    "for label, windows_list in windows_df.items():\n",
    "    for i, window in enumerate(windows_list):\n",
    "        # Convert 'Datetime' to a datetime object\n",
    "        window['Datetime'] = pd.to_datetime(window['Datetime'])\n",
    "\n",
    "        # Set 'Datetime' as the index\n",
    "        windows_df[label][i] = window.set_index('Datetime')"
   ]
  },
  {
   "cell_type": "code",
   "execution_count": 481,
   "metadata": {},
   "outputs": [
    {
     "name": "stdout",
     "output_type": "stream",
     "text": [
      "['Datetime' 'co2' 'tempF' 'rhumid' 'atmpr' 'door1' 'door2' 'hvac'\n",
      " 'subject_count' 'lecturer' 'co2_ma5' 'co2_ma10' 'co2_ma15' 'co2_ma30'\n",
      " 'tempF_ma5' 'tempF_ma10' 'tempF_ma15' 'tempF_ma30' 'rhumid_ma5'\n",
      " 'rhumid_ma10' 'rhumid_ma15' 'rhumid_ma30']\n"
     ]
    }
   ],
   "source": [
    "print(column_names)"
   ]
  },
  {
   "cell_type": "code",
   "execution_count": 482,
   "metadata": {},
   "outputs": [
    {
     "name": "stdout",
     "output_type": "stream",
     "text": [
      "Label: Chen\n",
      "Window 0: (76, 22)\n",
      "Window 1: (76, 22)\n",
      "Window 2: (76, 22)\n",
      "Window 3: (76, 22)\n",
      "Window 4: (76, 22)\n",
      "Window 5: (76, 22)\n",
      "Window 6: (76, 22)\n",
      "Window 7: (76, 22)\n",
      "Window 8: (76, 22)\n",
      "Window 9: (76, 22)\n",
      "Window 10: (76, 22)\n",
      "Window 11: (76, 22)\n",
      "Label: Song\n",
      "Window 0: (76, 22)\n",
      "Window 1: (76, 22)\n",
      "Window 2: (76, 22)\n",
      "Window 3: (76, 22)\n",
      "Window 4: (76, 22)\n",
      "Window 5: (76, 22)\n",
      "Window 6: (76, 22)\n",
      "Window 7: (76, 22)\n",
      "Window 8: (76, 22)\n",
      "Window 9: (76, 22)\n",
      "Window 10: (76, 22)\n",
      "Window 11: (76, 22)\n",
      "Window 12: (76, 22)\n"
     ]
    }
   ],
   "source": [
    "# Print the shape of each DataFrame in the windows dictionary\n",
    "for label, windows_list in windows.items():\n",
    "    print(f\"Label: {label}\")\n",
    "    for i, window in enumerate(windows_list):\n",
    "        print(f\"Window {i}: {window.shape}\")\n"
   ]
  },
  {
   "cell_type": "code",
   "execution_count": 483,
   "metadata": {},
   "outputs": [
    {
     "data": {
      "text/plain": [
       "array([[Timestamp('2024-03-14 08:00:00'), 595.0, 65.8, ..., 40.9,\n",
       "        40.93333333333333, 41.53333333333333],\n",
       "       [Timestamp('2024-03-14 08:01:00'), 597.0, 66.4, ..., 40.7, 40.8,\n",
       "        41.4],\n",
       "       [Timestamp('2024-03-14 08:02:00'), 584.0, 66.8, ..., 40.5,\n",
       "        40.666666666666664, 41.166666666666664],\n",
       "       ...,\n",
       "       [Timestamp('2024-03-14 09:13:00'), 540.0, 72.4, ..., 35.6, 35.2,\n",
       "        35.1],\n",
       "       [Timestamp('2024-03-14 09:14:00'), 515.0, 72.9, ..., 35.9,\n",
       "        35.333333333333336, 35.166666666666664],\n",
       "       [Timestamp('2024-03-14 09:15:00'), 518.0, 73.2, ..., 36.2,\n",
       "        35.46666666666667, 35.233333333333334]], dtype=object)"
      ]
     },
     "execution_count": 483,
     "metadata": {},
     "output_type": "execute_result"
    }
   ],
   "source": [
    "windows['Chen'][0][:]"
   ]
  },
  {
   "cell_type": "code",
   "execution_count": 484,
   "metadata": {},
   "outputs": [
    {
     "data": {
      "text/html": [
       "<div>\n",
       "<style scoped>\n",
       "    .dataframe tbody tr th:only-of-type {\n",
       "        vertical-align: middle;\n",
       "    }\n",
       "\n",
       "    .dataframe tbody tr th {\n",
       "        vertical-align: top;\n",
       "    }\n",
       "\n",
       "    .dataframe thead th {\n",
       "        text-align: right;\n",
       "    }\n",
       "</style>\n",
       "<table border=\"1\" class=\"dataframe\">\n",
       "  <thead>\n",
       "    <tr style=\"text-align: right;\">\n",
       "      <th></th>\n",
       "      <th>co2</th>\n",
       "      <th>tempF</th>\n",
       "      <th>rhumid</th>\n",
       "      <th>atmpr</th>\n",
       "      <th>door1</th>\n",
       "      <th>door2</th>\n",
       "      <th>hvac</th>\n",
       "      <th>subject_count</th>\n",
       "      <th>lecturer</th>\n",
       "      <th>co2_ma5</th>\n",
       "      <th>...</th>\n",
       "      <th>co2_ma15</th>\n",
       "      <th>co2_ma30</th>\n",
       "      <th>tempF_ma5</th>\n",
       "      <th>tempF_ma10</th>\n",
       "      <th>tempF_ma15</th>\n",
       "      <th>tempF_ma30</th>\n",
       "      <th>rhumid_ma5</th>\n",
       "      <th>rhumid_ma10</th>\n",
       "      <th>rhumid_ma15</th>\n",
       "      <th>rhumid_ma30</th>\n",
       "    </tr>\n",
       "    <tr>\n",
       "      <th>Datetime</th>\n",
       "      <th></th>\n",
       "      <th></th>\n",
       "      <th></th>\n",
       "      <th></th>\n",
       "      <th></th>\n",
       "      <th></th>\n",
       "      <th></th>\n",
       "      <th></th>\n",
       "      <th></th>\n",
       "      <th></th>\n",
       "      <th></th>\n",
       "      <th></th>\n",
       "      <th></th>\n",
       "      <th></th>\n",
       "      <th></th>\n",
       "      <th></th>\n",
       "      <th></th>\n",
       "      <th></th>\n",
       "      <th></th>\n",
       "      <th></th>\n",
       "      <th></th>\n",
       "    </tr>\n",
       "  </thead>\n",
       "  <tbody>\n",
       "    <tr>\n",
       "      <th>2024-03-14 08:00:00</th>\n",
       "      <td>595.0</td>\n",
       "      <td>65.8</td>\n",
       "      <td>40.0</td>\n",
       "      <td>1017.0</td>\n",
       "      <td>1</td>\n",
       "      <td>1</td>\n",
       "      <td>1</td>\n",
       "      <td>10.0</td>\n",
       "      <td>0</td>\n",
       "      <td>585.4</td>\n",
       "      <td>...</td>\n",
       "      <td>599.0</td>\n",
       "      <td>690.466667</td>\n",
       "      <td>64.38</td>\n",
       "      <td>63.67</td>\n",
       "      <td>63.953333</td>\n",
       "      <td>66.53</td>\n",
       "      <td>40.8</td>\n",
       "      <td>40.9</td>\n",
       "      <td>40.933333</td>\n",
       "      <td>41.533333</td>\n",
       "    </tr>\n",
       "    <tr>\n",
       "      <th>2024-03-14 08:01:00</th>\n",
       "      <td>597.0</td>\n",
       "      <td>66.4</td>\n",
       "      <td>39.0</td>\n",
       "      <td>1016.9</td>\n",
       "      <td>1</td>\n",
       "      <td>1</td>\n",
       "      <td>1</td>\n",
       "      <td>10.0</td>\n",
       "      <td>0</td>\n",
       "      <td>589.0</td>\n",
       "      <td>...</td>\n",
       "      <td>596.933333</td>\n",
       "      <td>681.833333</td>\n",
       "      <td>65.08</td>\n",
       "      <td>63.96</td>\n",
       "      <td>64.026667</td>\n",
       "      <td>66.4</td>\n",
       "      <td>40.2</td>\n",
       "      <td>40.7</td>\n",
       "      <td>40.8</td>\n",
       "      <td>41.4</td>\n",
       "    </tr>\n",
       "    <tr>\n",
       "      <th>2024-03-14 08:02:00</th>\n",
       "      <td>584.0</td>\n",
       "      <td>66.8</td>\n",
       "      <td>39.0</td>\n",
       "      <td>1016.9</td>\n",
       "      <td>1</td>\n",
       "      <td>1</td>\n",
       "      <td>0</td>\n",
       "      <td>16.0</td>\n",
       "      <td>0</td>\n",
       "      <td>589.4</td>\n",
       "      <td>...</td>\n",
       "      <td>594.2</td>\n",
       "      <td>670.933333</td>\n",
       "      <td>65.7</td>\n",
       "      <td>64.32</td>\n",
       "      <td>64.153333</td>\n",
       "      <td>66.28</td>\n",
       "      <td>39.8</td>\n",
       "      <td>40.5</td>\n",
       "      <td>40.666667</td>\n",
       "      <td>41.166667</td>\n",
       "    </tr>\n",
       "    <tr>\n",
       "      <th>2024-03-14 08:03:00</th>\n",
       "      <td>611.0</td>\n",
       "      <td>67.2</td>\n",
       "      <td>39.0</td>\n",
       "      <td>1017.0</td>\n",
       "      <td>1</td>\n",
       "      <td>1</td>\n",
       "      <td>0</td>\n",
       "      <td>16.0</td>\n",
       "      <td>0</td>\n",
       "      <td>594.2</td>\n",
       "      <td>...</td>\n",
       "      <td>595.133333</td>\n",
       "      <td>660.966667</td>\n",
       "      <td>66.26</td>\n",
       "      <td>64.74</td>\n",
       "      <td>64.333333</td>\n",
       "      <td>66.16</td>\n",
       "      <td>39.4</td>\n",
       "      <td>40.3</td>\n",
       "      <td>40.533333</td>\n",
       "      <td>41.0</td>\n",
       "    </tr>\n",
       "    <tr>\n",
       "      <th>2024-03-14 08:04:00</th>\n",
       "      <td>577.0</td>\n",
       "      <td>67.5</td>\n",
       "      <td>39.0</td>\n",
       "      <td>1017.0</td>\n",
       "      <td>1</td>\n",
       "      <td>1</td>\n",
       "      <td>0</td>\n",
       "      <td>16.0</td>\n",
       "      <td>0</td>\n",
       "      <td>592.8</td>\n",
       "      <td>...</td>\n",
       "      <td>593.2</td>\n",
       "      <td>650.233333</td>\n",
       "      <td>66.74</td>\n",
       "      <td>65.22</td>\n",
       "      <td>64.56</td>\n",
       "      <td>66.043333</td>\n",
       "      <td>39.2</td>\n",
       "      <td>40.1</td>\n",
       "      <td>40.4</td>\n",
       "      <td>40.866667</td>\n",
       "    </tr>\n",
       "    <tr>\n",
       "      <th>...</th>\n",
       "      <td>...</td>\n",
       "      <td>...</td>\n",
       "      <td>...</td>\n",
       "      <td>...</td>\n",
       "      <td>...</td>\n",
       "      <td>...</td>\n",
       "      <td>...</td>\n",
       "      <td>...</td>\n",
       "      <td>...</td>\n",
       "      <td>...</td>\n",
       "      <td>...</td>\n",
       "      <td>...</td>\n",
       "      <td>...</td>\n",
       "      <td>...</td>\n",
       "      <td>...</td>\n",
       "      <td>...</td>\n",
       "      <td>...</td>\n",
       "      <td>...</td>\n",
       "      <td>...</td>\n",
       "      <td>...</td>\n",
       "      <td>...</td>\n",
       "    </tr>\n",
       "    <tr>\n",
       "      <th>2024-03-14 09:11:00</th>\n",
       "      <td>543.0</td>\n",
       "      <td>71.9</td>\n",
       "      <td>37.0</td>\n",
       "      <td>1017.5</td>\n",
       "      <td>1</td>\n",
       "      <td>1</td>\n",
       "      <td>1</td>\n",
       "      <td>18.0</td>\n",
       "      <td>0</td>\n",
       "      <td>614.2</td>\n",
       "      <td>...</td>\n",
       "      <td>645.8</td>\n",
       "      <td>643.166667</td>\n",
       "      <td>71.32</td>\n",
       "      <td>70.88</td>\n",
       "      <td>70.72</td>\n",
       "      <td>70.49</td>\n",
       "      <td>36.0</td>\n",
       "      <td>35.1</td>\n",
       "      <td>35.0</td>\n",
       "      <td>35.0</td>\n",
       "    </tr>\n",
       "    <tr>\n",
       "      <th>2024-03-14 09:12:00</th>\n",
       "      <td>545.0</td>\n",
       "      <td>72.1</td>\n",
       "      <td>36.0</td>\n",
       "      <td>1017.5</td>\n",
       "      <td>1</td>\n",
       "      <td>1</td>\n",
       "      <td>1</td>\n",
       "      <td>18.0</td>\n",
       "      <td>0</td>\n",
       "      <td>592.2</td>\n",
       "      <td>...</td>\n",
       "      <td>638.666667</td>\n",
       "      <td>640.2</td>\n",
       "      <td>71.56</td>\n",
       "      <td>71.05</td>\n",
       "      <td>70.833333</td>\n",
       "      <td>70.556667</td>\n",
       "      <td>36.2</td>\n",
       "      <td>35.3</td>\n",
       "      <td>35.066667</td>\n",
       "      <td>35.033333</td>\n",
       "    </tr>\n",
       "    <tr>\n",
       "      <th>2024-03-14 09:13:00</th>\n",
       "      <td>540.0</td>\n",
       "      <td>72.4</td>\n",
       "      <td>37.0</td>\n",
       "      <td>1017.5</td>\n",
       "      <td>1</td>\n",
       "      <td>1</td>\n",
       "      <td>1</td>\n",
       "      <td>18.0</td>\n",
       "      <td>0</td>\n",
       "      <td>567.2</td>\n",
       "      <td>...</td>\n",
       "      <td>630.733333</td>\n",
       "      <td>637.366667</td>\n",
       "      <td>71.82</td>\n",
       "      <td>71.25</td>\n",
       "      <td>70.966667</td>\n",
       "      <td>70.636667</td>\n",
       "      <td>36.4</td>\n",
       "      <td>35.6</td>\n",
       "      <td>35.2</td>\n",
       "      <td>35.1</td>\n",
       "    </tr>\n",
       "    <tr>\n",
       "      <th>2024-03-14 09:14:00</th>\n",
       "      <td>515.0</td>\n",
       "      <td>72.9</td>\n",
       "      <td>37.0</td>\n",
       "      <td>1017.5</td>\n",
       "      <td>1</td>\n",
       "      <td>1</td>\n",
       "      <td>1</td>\n",
       "      <td>18.0</td>\n",
       "      <td>0</td>\n",
       "      <td>544.0</td>\n",
       "      <td>...</td>\n",
       "      <td>620.533333</td>\n",
       "      <td>633.2</td>\n",
       "      <td>72.16</td>\n",
       "      <td>71.5</td>\n",
       "      <td>71.133333</td>\n",
       "      <td>70.73</td>\n",
       "      <td>36.6</td>\n",
       "      <td>35.9</td>\n",
       "      <td>35.333333</td>\n",
       "      <td>35.166667</td>\n",
       "    </tr>\n",
       "    <tr>\n",
       "      <th>2024-03-14 09:15:00</th>\n",
       "      <td>518.0</td>\n",
       "      <td>73.2</td>\n",
       "      <td>37.0</td>\n",
       "      <td>1017.5</td>\n",
       "      <td>1</td>\n",
       "      <td>1</td>\n",
       "      <td>1</td>\n",
       "      <td>18.0</td>\n",
       "      <td>0</td>\n",
       "      <td>532.2</td>\n",
       "      <td>...</td>\n",
       "      <td>610.066667</td>\n",
       "      <td>629.066667</td>\n",
       "      <td>72.5</td>\n",
       "      <td>71.78</td>\n",
       "      <td>71.32</td>\n",
       "      <td>70.833333</td>\n",
       "      <td>36.8</td>\n",
       "      <td>36.2</td>\n",
       "      <td>35.466667</td>\n",
       "      <td>35.233333</td>\n",
       "    </tr>\n",
       "  </tbody>\n",
       "</table>\n",
       "<p>76 rows × 21 columns</p>\n",
       "</div>"
      ],
      "text/plain": [
       "                       co2 tempF rhumid   atmpr door1 door2 hvac  \\\n",
       "Datetime                                                           \n",
       "2024-03-14 08:00:00  595.0  65.8   40.0  1017.0     1     1    1   \n",
       "2024-03-14 08:01:00  597.0  66.4   39.0  1016.9     1     1    1   \n",
       "2024-03-14 08:02:00  584.0  66.8   39.0  1016.9     1     1    0   \n",
       "2024-03-14 08:03:00  611.0  67.2   39.0  1017.0     1     1    0   \n",
       "2024-03-14 08:04:00  577.0  67.5   39.0  1017.0     1     1    0   \n",
       "...                    ...   ...    ...     ...   ...   ...  ...   \n",
       "2024-03-14 09:11:00  543.0  71.9   37.0  1017.5     1     1    1   \n",
       "2024-03-14 09:12:00  545.0  72.1   36.0  1017.5     1     1    1   \n",
       "2024-03-14 09:13:00  540.0  72.4   37.0  1017.5     1     1    1   \n",
       "2024-03-14 09:14:00  515.0  72.9   37.0  1017.5     1     1    1   \n",
       "2024-03-14 09:15:00  518.0  73.2   37.0  1017.5     1     1    1   \n",
       "\n",
       "                    subject_count lecturer co2_ma5  ...    co2_ma15  \\\n",
       "Datetime                                            ...               \n",
       "2024-03-14 08:00:00          10.0        0   585.4  ...       599.0   \n",
       "2024-03-14 08:01:00          10.0        0   589.0  ...  596.933333   \n",
       "2024-03-14 08:02:00          16.0        0   589.4  ...       594.2   \n",
       "2024-03-14 08:03:00          16.0        0   594.2  ...  595.133333   \n",
       "2024-03-14 08:04:00          16.0        0   592.8  ...       593.2   \n",
       "...                           ...      ...     ...  ...         ...   \n",
       "2024-03-14 09:11:00          18.0        0   614.2  ...       645.8   \n",
       "2024-03-14 09:12:00          18.0        0   592.2  ...  638.666667   \n",
       "2024-03-14 09:13:00          18.0        0   567.2  ...  630.733333   \n",
       "2024-03-14 09:14:00          18.0        0   544.0  ...  620.533333   \n",
       "2024-03-14 09:15:00          18.0        0   532.2  ...  610.066667   \n",
       "\n",
       "                       co2_ma30 tempF_ma5 tempF_ma10 tempF_ma15 tempF_ma30  \\\n",
       "Datetime                                                                     \n",
       "2024-03-14 08:00:00  690.466667     64.38      63.67  63.953333      66.53   \n",
       "2024-03-14 08:01:00  681.833333     65.08      63.96  64.026667       66.4   \n",
       "2024-03-14 08:02:00  670.933333      65.7      64.32  64.153333      66.28   \n",
       "2024-03-14 08:03:00  660.966667     66.26      64.74  64.333333      66.16   \n",
       "2024-03-14 08:04:00  650.233333     66.74      65.22      64.56  66.043333   \n",
       "...                         ...       ...        ...        ...        ...   \n",
       "2024-03-14 09:11:00  643.166667     71.32      70.88      70.72      70.49   \n",
       "2024-03-14 09:12:00       640.2     71.56      71.05  70.833333  70.556667   \n",
       "2024-03-14 09:13:00  637.366667     71.82      71.25  70.966667  70.636667   \n",
       "2024-03-14 09:14:00       633.2     72.16       71.5  71.133333      70.73   \n",
       "2024-03-14 09:15:00  629.066667      72.5      71.78      71.32  70.833333   \n",
       "\n",
       "                    rhumid_ma5 rhumid_ma10 rhumid_ma15 rhumid_ma30  \n",
       "Datetime                                                            \n",
       "2024-03-14 08:00:00       40.8        40.9   40.933333   41.533333  \n",
       "2024-03-14 08:01:00       40.2        40.7        40.8        41.4  \n",
       "2024-03-14 08:02:00       39.8        40.5   40.666667   41.166667  \n",
       "2024-03-14 08:03:00       39.4        40.3   40.533333        41.0  \n",
       "2024-03-14 08:04:00       39.2        40.1        40.4   40.866667  \n",
       "...                        ...         ...         ...         ...  \n",
       "2024-03-14 09:11:00       36.0        35.1        35.0        35.0  \n",
       "2024-03-14 09:12:00       36.2        35.3   35.066667   35.033333  \n",
       "2024-03-14 09:13:00       36.4        35.6        35.2        35.1  \n",
       "2024-03-14 09:14:00       36.6        35.9   35.333333   35.166667  \n",
       "2024-03-14 09:15:00       36.8        36.2   35.466667   35.233333  \n",
       "\n",
       "[76 rows x 21 columns]"
      ]
     },
     "execution_count": 484,
     "metadata": {},
     "output_type": "execute_result"
    }
   ],
   "source": [
    "windows_df['Chen'][0]"
   ]
  },
  {
   "cell_type": "markdown",
   "metadata": {},
   "source": [
    "# Numpy Tensor"
   ]
  },
  {
   "cell_type": "code",
   "execution_count": 485,
   "metadata": {},
   "outputs": [
    {
     "name": "stdout",
     "output_type": "stream",
     "text": [
      "Shape of X: (25, 76, 22)\n",
      "Shape of y: (25,)\n"
     ]
    }
   ],
   "source": [
    "# Initialize a list to store the 3D arrays and labels\n",
    "X_list = []\n",
    "y_list = []\n",
    "\n",
    "for label, windows_list in windows.items():\n",
    "    for window in windows_list:\n",
    "        # Convert each DataFrame to a NumPy array and append to the list\n",
    "        X_list.append(window)\n",
    "        # Append the corresponding label to the label list\n",
    "        y_list.append(label)\n",
    "\n",
    "# Convert the list of 3D arrays to a single 3D array (tensor)\n",
    "X = np.array(X_list)\n",
    "\n",
    "# Convert the label list to a NumPy array\n",
    "y = np.array(y_list)\n",
    "\n",
    "# Print the shapes of the resulting arrays\n",
    "print(f\"Shape of X: {X.shape}\")\n",
    "print(f\"Shape of y: {y.shape}\")\n"
   ]
  },
  {
   "cell_type": "code",
   "execution_count": 486,
   "metadata": {},
   "outputs": [
    {
     "name": "stdout",
     "output_type": "stream",
     "text": [
      "New shape of X: (25, 76, 20)\n"
     ]
    }
   ],
   "source": [
    "# Drop the first and the last columns from the 3D array X\n",
    "X = X[:, :, 1:-1]\n",
    "\n",
    "# Verify the new shape of X\n",
    "print(f\"New shape of X: {X.shape}\")\n",
    "\n"
   ]
  },
  {
   "cell_type": "code",
   "execution_count": 487,
   "metadata": {},
   "outputs": [
    {
     "name": "stdout",
     "output_type": "stream",
     "text": [
      "Reshaped X to: (1900, 20)\n",
      "Reshaped back to original shape: (25, 76, 20)\n"
     ]
    }
   ],
   "source": [
    "X_reshaped = X.reshape(-1, X.shape[-1])\n",
    "print(f\"Reshaped X to: {X_reshaped.shape}\")\n",
    "X_original_shape = X_reshaped.reshape(X.shape)\n",
    "print(f\"Reshaped back to original shape: {X_original_shape.shape}\")\n"
   ]
  },
  {
   "cell_type": "code",
   "execution_count": 488,
   "metadata": {},
   "outputs": [
    {
     "data": {
      "text/plain": [
       "array(['Chen', 'Chen', 'Chen', 'Chen', 'Chen', 'Chen', 'Chen', 'Chen',\n",
       "       'Chen', 'Chen', 'Chen', 'Chen', 'Song', 'Song', 'Song', 'Song',\n",
       "       'Song', 'Song', 'Song', 'Song', 'Song', 'Song', 'Song', 'Song',\n",
       "       'Song'], dtype='<U4')"
      ]
     },
     "execution_count": 488,
     "metadata": {},
     "output_type": "execute_result"
    }
   ],
   "source": [
    "y"
   ]
  },
  {
   "cell_type": "code",
   "execution_count": 489,
   "metadata": {},
   "outputs": [
    {
     "data": {
      "text/plain": [
       "('Chen',\n",
       " array([[595.0, 65.8, 40.0, ..., 40.8, 40.9, 40.93333333333333],\n",
       "        [597.0, 66.4, 39.0, ..., 40.2, 40.7, 40.8],\n",
       "        [584.0, 66.8, 39.0, ..., 39.8, 40.5, 40.666666666666664],\n",
       "        ...,\n",
       "        [540.0, 72.4, 37.0, ..., 36.4, 35.6, 35.2],\n",
       "        [515.0, 72.9, 37.0, ..., 36.6, 35.9, 35.333333333333336],\n",
       "        [518.0, 73.2, 37.0, ..., 36.8, 36.2, 35.46666666666667]],\n",
       "       dtype=object))"
      ]
     },
     "execution_count": 489,
     "metadata": {},
     "output_type": "execute_result"
    }
   ],
   "source": [
    "y[0],X[0]"
   ]
  },
  {
   "cell_type": "markdown",
   "metadata": {},
   "source": [
    "## Sequential Classifier\n",
    "\n",
    "Note that adding features such as moving averages was an easy way to increase the metrics of this model. We should discuss it further.\n",
    "\n",
    "Test-train-split"
   ]
  },
  {
   "cell_type": "code",
   "execution_count": 490,
   "metadata": {},
   "outputs": [
    {
     "name": "stdout",
     "output_type": "stream",
     "text": [
      "X_train shape: (19, 76, 20)\n",
      "y_train shape: (19,)\n",
      "X_test shape: (6, 76, 20)\n",
      "y_test shape: (6,)\n"
     ]
    }
   ],
   "source": [
    "from sklearn.model_selection import train_test_split\n",
    "from sklearn.preprocessing import StandardScaler\n",
    "\n",
    "\n",
    "X = X.astype(np.float64)\n",
    "# Encode labels: 'Song' as 1, 'Chen' as 0\n",
    "y = np.array([1 if label == 'Song' else 0 for label in y])\n",
    "# Scale the features using StandardScaler\n",
    "\n",
    "# Reshape X to 2D array\n",
    "X_2d = X.reshape(-1, X.shape[-1])\n",
    "\n",
    "# Scale the features using StandardScaler\n",
    "scaler = StandardScaler()\n",
    "X_scaled = scaler.fit_transform(X_2d)\n",
    "\n",
    "# Reshape X_scaled back to 3D array\n",
    "X_scaled_3d = X_scaled.reshape(X.shape[0], X.shape[1], X.shape[2])\n",
    "\n",
    "# Split into training and test/validation sets\n",
    "X_train, X_test, y_train, y_test = train_test_split(X_scaled_3d, y, test_size=6, random_state=42, stratify=y)\n",
    "\n",
    "print(\"X_train shape:\", X_train.shape)\n",
    "print(\"y_train shape:\", y_train.shape)\n",
    "print(\"X_test shape:\", X_test.shape)\n",
    "print(\"y_test shape:\", y_test.shape)\n"
   ]
  },
  {
   "cell_type": "code",
   "execution_count": 491,
   "metadata": {},
   "outputs": [],
   "source": [
    "import tensorflow as tf\n",
    "\n",
    "tf.random.set_seed(42)\n",
    "model = tf.keras.Sequential()\n",
    "model.add(tf.keras.layers.Input(shape=[76,20]))\n",
    "model.add(tf.keras.layers.Flatten())\n",
    "model.add(tf.keras.layers.Dense(128, activation='relu'))\n",
    "model.add(tf.keras.layers.Dense(64, activation='relu'))\n",
    "model.add(tf.keras.layers.Dense(32, activation='softmax'))"
   ]
  },
  {
   "cell_type": "code",
   "execution_count": 492,
   "metadata": {},
   "outputs": [
    {
     "name": "stdout",
     "output_type": "stream",
     "text": [
      "Model: \"sequential_24\"\n",
      "_________________________________________________________________\n",
      " Layer (type)                Output Shape              Param #   \n",
      "=================================================================\n",
      " flatten_24 (Flatten)        (None, 1520)              0         \n",
      "                                                                 \n",
      " dense_72 (Dense)            (None, 128)               194688    \n",
      "                                                                 \n",
      " dense_73 (Dense)            (None, 64)                8256      \n",
      "                                                                 \n",
      " dense_74 (Dense)            (None, 32)                2080      \n",
      "                                                                 \n",
      "=================================================================\n",
      "Total params: 205024 (800.88 KB)\n",
      "Trainable params: 205024 (800.88 KB)\n",
      "Non-trainable params: 0 (0.00 Byte)\n",
      "_________________________________________________________________\n"
     ]
    }
   ],
   "source": [
    "model.summary()"
   ]
  },
  {
   "cell_type": "code",
   "execution_count": 493,
   "metadata": {},
   "outputs": [
    {
     "name": "stdout",
     "output_type": "stream",
     "text": [
      "Epoch 1/7\n"
     ]
    },
    {
     "name": "stdout",
     "output_type": "stream",
     "text": [
      "1/1 [==============================] - 0s 353ms/step - loss: 3.8745 - accuracy: 0.1579 - val_loss: 3.2681 - val_accuracy: 0.5000\n",
      "Epoch 2/7\n",
      "1/1 [==============================] - 0s 21ms/step - loss: 2.7366 - accuracy: 0.4737 - val_loss: 2.7054 - val_accuracy: 0.5000\n",
      "Epoch 3/7\n",
      "1/1 [==============================] - 0s 22ms/step - loss: 1.8961 - accuracy: 0.6316 - val_loss: 2.2521 - val_accuracy: 0.6667\n",
      "Epoch 4/7\n",
      "1/1 [==============================] - 0s 21ms/step - loss: 1.3483 - accuracy: 0.7895 - val_loss: 1.9189 - val_accuracy: 0.6667\n",
      "Epoch 5/7\n",
      "1/1 [==============================] - 0s 22ms/step - loss: 0.9860 - accuracy: 0.8947 - val_loss: 1.6828 - val_accuracy: 0.8333\n",
      "Epoch 6/7\n",
      "1/1 [==============================] - 0s 21ms/step - loss: 0.7592 - accuracy: 0.9474 - val_loss: 1.5029 - val_accuracy: 0.8333\n",
      "Epoch 7/7\n",
      "1/1 [==============================] - 0s 21ms/step - loss: 0.6098 - accuracy: 0.9474 - val_loss: 1.3587 - val_accuracy: 0.8333\n"
     ]
    }
   ],
   "source": [
    "model.compile(loss='sparse_categorical_crossentropy', \n",
    "              optimizer='sgd',\n",
    "              metrics=['accuracy'])\n",
    "\n",
    "history = model.fit(X_train, y_train, epochs=7, validation_data=(X_test, y_test))"
   ]
  },
  {
   "cell_type": "code",
   "execution_count": 494,
   "metadata": {},
   "outputs": [
    {
     "data": {
      "image/png": "[encoded data removed]",
      "text/plain": [
       "<Figure size 800x500 with 1 Axes>"
      ]
     },
     "metadata": {},
     "output_type": "display_data"
    }
   ],
   "source": [
    "pd.DataFrame(history.history).plot(\n",
    "    figsize=(8, 5),\n",
    "    xlim=[0, 15], ylim=[0, 1], xlabel='Epochs', grid=True,\n",
    "    style=['r', 'r--', 'b', 'b-*'])\n",
    "plt.show()"
   ]
  },
  {
   "cell_type": "code",
   "execution_count": 495,
   "metadata": {},
   "outputs": [
    {
     "name": "stdout",
     "output_type": "stream",
     "text": [
      "1/1 [==============================] - 0s 22ms/step - loss: 1.3587 - accuracy: 0.8333\n"
     ]
    },
    {
     "data": {
      "text/plain": [
       "[1.3586736917495728, 0.8333333134651184]"
      ]
     },
     "execution_count": 495,
     "metadata": {},
     "output_type": "execute_result"
    }
   ],
   "source": [
    "model.evaluate(X_test, y_test)"
   ]
  },
  {
   "cell_type": "code",
   "execution_count": 496,
   "metadata": {},
   "outputs": [
    {
     "name": "stdout",
     "output_type": "stream",
     "text": [
      "1/1 [==============================] - 0s 42ms/step\n"
     ]
    },
    {
     "data": {
      "text/plain": [
       "array([[0.17, 0.04, 0.02, 0.07, 0.02, 0.01, 0.01, 0.03, 0.01, 0.03, 0.  ,\n",
       "        0.08, 0.01, 0.01, 0.03, 0.07, 0.05, 0.02, 0.05, 0.01, 0.05, 0.01,\n",
       "        0.05, 0.03, 0.01, 0.01, 0.02, 0.01, 0.03, 0.  , 0.01, 0.03],\n",
       "       [0.01, 0.35, 0.06, 0.02, 0.01, 0.01, 0.01, 0.05, 0.02, 0.  , 0.01,\n",
       "        0.01, 0.02, 0.01, 0.01, 0.03, 0.05, 0.03, 0.04, 0.01, 0.04, 0.02,\n",
       "        0.02, 0.02, 0.02, 0.02, 0.01, 0.02, 0.02, 0.04, 0.  , 0.02],\n",
       "       [0.  , 0.8 , 0.01, 0.01, 0.  , 0.  , 0.  , 0.  , 0.  , 0.  , 0.  ,\n",
       "        0.01, 0.  , 0.  , 0.  , 0.01, 0.07, 0.  , 0.03, 0.  , 0.01, 0.  ,\n",
       "        0.01, 0.02, 0.  , 0.  , 0.  , 0.  , 0.  , 0.  , 0.  , 0.  ],\n",
       "       [0.  , 0.77, 0.01, 0.  , 0.02, 0.  , 0.01, 0.02, 0.01, 0.  , 0.  ,\n",
       "        0.  , 0.01, 0.01, 0.01, 0.01, 0.  , 0.02, 0.  , 0.  , 0.  , 0.  ,\n",
       "        0.01, 0.02, 0.01, 0.01, 0.  , 0.  , 0.01, 0.01, 0.  , 0.01],\n",
       "       [0.63, 0.02, 0.  , 0.06, 0.02, 0.  , 0.02, 0.02, 0.  , 0.  , 0.  ,\n",
       "        0.02, 0.  , 0.  , 0.03, 0.03, 0.01, 0.01, 0.  , 0.  , 0.  , 0.  ,\n",
       "        0.03, 0.01, 0.01, 0.01, 0.  , 0.  , 0.02, 0.  , 0.  , 0.01],\n",
       "       [0.01, 0.4 , 0.03, 0.03, 0.03, 0.  , 0.01, 0.07, 0.  , 0.  , 0.01,\n",
       "        0.02, 0.02, 0.01, 0.  , 0.03, 0.06, 0.02, 0.02, 0.  , 0.08, 0.02,\n",
       "        0.02, 0.01, 0.02, 0.01, 0.02, 0.01, 0.01, 0.02, 0.  , 0.01]],\n",
       "      dtype=float32)"
      ]
     },
     "execution_count": 496,
     "metadata": {},
     "output_type": "execute_result"
    }
   ],
   "source": [
    "y_proba = model.predict(X_test)\n",
    "y_proba.round(2)"
   ]
  },
  {
   "cell_type": "code",
   "execution_count": 497,
   "metadata": {},
   "outputs": [
    {
     "data": {
      "text/plain": [
       "(array([0, 1, 1, 1, 0, 1], dtype=int64), array([0, 1, 1, 1, 0, 0]))"
      ]
     },
     "execution_count": 497,
     "metadata": {},
     "output_type": "execute_result"
    }
   ],
   "source": [
    "y_pred = np.argmax(y_proba, axis=1)\n",
    "y_pred, y_test"
   ]
  },
  {
   "cell_type": "code",
   "execution_count": 498,
   "metadata": {},
   "outputs": [
    {
     "name": "stdout",
     "output_type": "stream",
     "text": [
      "Accuracy: 0.8333\n",
      "Precision: 0.7500\n",
      "Recall: 1.0000\n",
      "F1-score: 0.8571\n"
     ]
    }
   ],
   "source": [
    "from sklearn.metrics import accuracy_score, precision_score, recall_score, f1_score\n",
    "\n",
    "def evaluate_classification(y_true, y_pred):\n",
    "    # Calculate metrics\n",
    "    accuracy = accuracy_score(y_true, y_pred)\n",
    "    precision = precision_score(y_true, y_pred)\n",
    "    recall = recall_score(y_true, y_pred)\n",
    "    f1 = f1_score(y_true, y_pred)\n",
    "    \n",
    "    # Print metrics\n",
    "    print(f\"Accuracy: {accuracy:.4f}\")\n",
    "    print(f\"Precision: {precision:.4f}\")\n",
    "    print(f\"Recall: {recall:.4f}\")\n",
    "    print(f\"F1-score: {f1:.4f}\")\n",
    "    \n",
    "    # Return metrics as a dictionary\n",
    "    return {'accuracy': accuracy, 'precision': precision, 'recall': recall, 'f1_score': f1}\n",
    "\n",
    "# Example usage\n",
    "metrics = evaluate_classification(y_test, y_pred)\n"
   ]
  },
  {
   "cell_type": "markdown",
   "metadata": {},
   "source": [
    "# RNN Sequential"
   ]
  },
  {
   "cell_type": "code",
   "execution_count": null,
   "metadata": {},
   "outputs": [],
   "source": []
  }
 ],
 "metadata": {
  "kernelspec": {
   "display_name": "Python 3",
   "language": "python",
   "name": "python3"
  },
  "language_info": {
   "codemirror_mode": {
    "name": "ipython",
    "version": 3
   },
   "file_extension": ".py",
   "mimetype": "text/x-python",
   "name": "python",
   "nbconvert_exporter": "python",
   "pygments_lexer": "ipython3",
   "version": "3.9.7"
  }
 },
 "nbformat": 4,
 "nbformat_minor": 2
}
