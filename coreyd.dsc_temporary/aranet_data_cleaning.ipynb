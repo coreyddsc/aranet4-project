{
 "cells": [
  {
   "cell_type": "markdown",
   "metadata": {},
   "source": [
    "# Aranet Data Cleaning and Analysis\n",
    "The purpose of this notebook is to analysis the basic structure of our loaded aranet4 data to check or missing or duplicate records that could cause discontinuities in our time-series forecasting. We will correct and fill/impute missing values accordingly, and write functions to detect and correct for similar errors for data collected in the future.\n",
    "\n",
    "## Load Data"
   ]
  },
  {
   "cell_type": "code",
   "execution_count": 1,
   "metadata": {},
   "outputs": [],
   "source": [
    "import pandas as pd\n",
    "import numpy as np\n",
    "import matplotlib.pyplot as plt\n",
    "import datetime as datetime\n",
    "\n",
    "# Load the data\n",
    "# Load the data from the CSV file\n",
    "aranet4 = pd.read_csv('../datasets/aranet4.csv')\n",
    "aranetExp = pd.read_csv('../datasets/aranetExp.csv')\n",
    "\n",
    "# Convert the date column to datetime\n",
    "aranetExp['date'] = pd.to_datetime(aranetExp['date'])\n",
    "aranetExp = aranetExp.rename(columns={'date': 'Datetime'})\n",
    "aranetExp = aranetExp.drop(columns=['id','time'])\n",
    "aranetExp = aranetExp.set_index('Datetime')\n",
    "\n",
    "# Convert the date column to datetime \n",
    "aranet4['Datetime'] = pd.to_datetime(aranet4['Datetime'])\n",
    "aranet4 = aranet4.set_index('Datetime')"
   ]
  },
  {
   "cell_type": "code",
   "execution_count": 4,
   "metadata": {},
   "outputs": [
    {
     "name": "stdout",
     "output_type": "stream",
     "text": [
      "<class 'pandas.core.frame.DataFrame'>\n",
      "DatetimeIndex: 129396 entries, 2024-01-12 16:08:15 to 2024-04-11 13:43:54\n",
      "Data columns (total 4 columns):\n",
      " #   Column                     Non-Null Count   Dtype  \n",
      "---  ------                     --------------   -----  \n",
      " 0   Carbon dioxide(ppm)        129396 non-null  int64  \n",
      " 1   Temperature(°F)            129396 non-null  float64\n",
      " 2   Relative humidity(%)       129343 non-null  float64\n",
      " 3   Atmospheric pressure(hPa)  126874 non-null  float64\n",
      "dtypes: float64(3), int64(1)\n",
      "memory usage: 9.0 MB\n",
      "<class 'pandas.core.frame.DataFrame'>\n",
      "DatetimeIndex: 240 entries, 2024-03-13 13:04:41 to 2024-04-10 13:32:19\n",
      "Data columns (total 4 columns):\n",
      " #   Column         Non-Null Count  Dtype \n",
      "---  ------         --------------  ----- \n",
      " 0   door1          240 non-null    object\n",
      " 1   door2          240 non-null    object\n",
      " 2   hvac           240 non-null    object\n",
      " 3   subject_count  240 non-null    int64 \n",
      "dtypes: int64(1), object(3)\n",
      "memory usage: 9.4+ KB\n"
     ]
    },
    {
     "data": {
      "text/plain": [
       "(None, None)"
      ]
     },
     "execution_count": 4,
     "metadata": {},
     "output_type": "execute_result"
    }
   ],
   "source": [
    "aranet4.info(), aranetExp.info()"
   ]
  },
  {
   "cell_type": "markdown",
   "metadata": {},
   "source": [
    "We see we have some `null` values in humidity and pressure, we won't need those values for our current experiment, so we can subset for after `2024-03-13 00:00:00`."
   ]
  },
  {
   "cell_type": "code",
   "execution_count": 3,
   "metadata": {},
   "outputs": [
    {
     "name": "stdout",
     "output_type": "stream",
     "text": [
      "<class 'pandas.core.frame.DataFrame'>\n",
      "DatetimeIndex: 41144 entries, 2024-03-14 00:00:49 to 2024-04-11 13:43:54\n",
      "Data columns (total 4 columns):\n",
      " #   Column                     Non-Null Count  Dtype  \n",
      "---  ------                     --------------  -----  \n",
      " 0   Carbon dioxide(ppm)        41144 non-null  int64  \n",
      " 1   Temperature(°F)            41144 non-null  float64\n",
      " 2   Relative humidity(%)       41144 non-null  float64\n",
      " 3   Atmospheric pressure(hPa)  41144 non-null  float64\n",
      "dtypes: float64(3), int64(1)\n",
      "memory usage: 1.6 MB\n"
     ]
    }
   ],
   "source": [
    "# Filter the DataFrame to include all records from \"2024-03-14 00:00:00\" onwards\n",
    "aranet4_sub = aranet4.loc[\"2024-03-14 00:00:00\":].copy()\n",
    "aranet4_sub.info()\n"
   ]
  },
  {
   "cell_type": "markdown",
   "metadata": {},
   "source": [
    "In order to join the two data sets we have to put them on a unique common datetime minute index. First, let's round everything to the nearest minute and looking duplicate minutes."
   ]
  },
  {
   "cell_type": "code",
   "execution_count": 5,
   "metadata": {},
   "outputs": [
    {
     "name": "stdout",
     "output_type": "stream",
     "text": [
      "<class 'pandas.core.frame.DataFrame'>\n",
      "DatetimeIndex: 41144 entries, 2024-03-14 00:01:00 to 2024-04-11 13:44:00\n",
      "Data columns (total 4 columns):\n",
      " #   Column                     Non-Null Count  Dtype  \n",
      "---  ------                     --------------  -----  \n",
      " 0   Carbon dioxide(ppm)        41144 non-null  int64  \n",
      " 1   Temperature(°F)            41144 non-null  float64\n",
      " 2   Relative humidity(%)       41144 non-null  float64\n",
      " 3   Atmospheric pressure(hPa)  41144 non-null  float64\n",
      "dtypes: float64(3), int64(1)\n",
      "memory usage: 1.6 MB\n",
      "<class 'pandas.core.frame.DataFrame'>\n",
      "DatetimeIndex: 240 entries, 2024-03-13 13:05:00 to 2024-04-10 13:32:00\n",
      "Data columns (total 4 columns):\n",
      " #   Column         Non-Null Count  Dtype \n",
      "---  ------         --------------  ----- \n",
      " 0   door1          240 non-null    object\n",
      " 1   door2          240 non-null    object\n",
      " 2   hvac           240 non-null    object\n",
      " 3   subject_count  240 non-null    int64 \n",
      "dtypes: int64(1), object(3)\n",
      "memory usage: 9.4+ KB\n"
     ]
    },
    {
     "data": {
      "text/plain": [
       "(None, None)"
      ]
     },
     "execution_count": 5,
     "metadata": {},
     "output_type": "execute_result"
    }
   ],
   "source": [
    "def custom_round_to_nearest_minute(dt_index):\n",
    "    rounded_index = dt_index.floor('min') + pd.to_timedelta((dt_index.second >= 30).astype(int), unit='min')\n",
    "    rounded_index.name = dt_index.name  # Preserve the name of the index\n",
    "    return rounded_index\n",
    "\n",
    "aranet4_sub.index = custom_round_to_nearest_minute(aranet4_sub.index)\n",
    "aranetExp.index = custom_round_to_nearest_minute(aranetExp.index)\n",
    "aranet4_sub.info(), aranetExp.info()"
   ]
  },
  {
   "cell_type": "markdown",
   "metadata": {},
   "source": [
    "Check for duplicates and gaps in the index"
   ]
  },
  {
   "cell_type": "code",
   "execution_count": 27,
   "metadata": {},
   "outputs": [
    {
     "data": {
      "text/plain": [
       "DatetimeIndex(['2024-03-15 08:21:00', '2024-03-17 02:02:00',\n",
       "               '2024-03-20 08:38:00', '2024-03-20 16:04:00',\n",
       "               '2024-03-22 08:24:00', '2024-03-24 08:39:00',\n",
       "               '2024-03-25 20:19:00', '2024-03-27 08:54:00',\n",
       "               '2024-03-28 17:56:00', '2024-03-31 06:21:00',\n",
       "               '2024-03-31 21:57:00', '2024-04-01 01:52:00',\n",
       "               '2024-04-03 04:28:00', '2024-04-07 00:21:00',\n",
       "               '2024-04-09 22:20:00'],\n",
       "              dtype='datetime64[ns]', name='Datetime', freq=None)"
      ]
     },
     "execution_count": 27,
     "metadata": {},
     "output_type": "execute_result"
    }
   ],
   "source": [
    "import pandas as pd\n",
    "\n",
    "# Find the indices of the rows where the index is duplicated and the previous indices\n",
    "duplicate_indices = aranet4_sub.index.duplicated(keep='first')\n",
    "aranet4_sub[duplicate_indices].index"
   ]
  },
  {
   "cell_type": "code",
   "execution_count": 25,
   "metadata": {},
   "outputs": [
    {
     "data": {
      "text/html": [
       "<div>\n",
       "<style scoped>\n",
       "    .dataframe tbody tr th:only-of-type {\n",
       "        vertical-align: middle;\n",
       "    }\n",
       "\n",
       "    .dataframe tbody tr th {\n",
       "        vertical-align: top;\n",
       "    }\n",
       "\n",
       "    .dataframe thead th {\n",
       "        text-align: right;\n",
       "    }\n",
       "</style>\n",
       "<table border=\"1\" class=\"dataframe\">\n",
       "  <thead>\n",
       "    <tr style=\"text-align: right;\">\n",
       "      <th></th>\n",
       "      <th>Carbon dioxide(ppm)</th>\n",
       "      <th>Temperature(°F)</th>\n",
       "      <th>Relative humidity(%)</th>\n",
       "      <th>Atmospheric pressure(hPa)</th>\n",
       "    </tr>\n",
       "    <tr>\n",
       "      <th>Datetime</th>\n",
       "      <th></th>\n",
       "      <th></th>\n",
       "      <th></th>\n",
       "      <th></th>\n",
       "    </tr>\n",
       "  </thead>\n",
       "  <tbody>\n",
       "    <tr>\n",
       "      <th>2024-03-15 08:15:00</th>\n",
       "      <td>757</td>\n",
       "      <td>69.9</td>\n",
       "      <td>48.0</td>\n",
       "      <td>1015.2</td>\n",
       "    </tr>\n",
       "    <tr>\n",
       "      <th>2024-03-15 08:16:00</th>\n",
       "      <td>748</td>\n",
       "      <td>69.8</td>\n",
       "      <td>48.0</td>\n",
       "      <td>1015.2</td>\n",
       "    </tr>\n",
       "    <tr>\n",
       "      <th>2024-03-15 08:17:00</th>\n",
       "      <td>755</td>\n",
       "      <td>69.9</td>\n",
       "      <td>48.0</td>\n",
       "      <td>1015.3</td>\n",
       "    </tr>\n",
       "    <tr>\n",
       "      <th>2024-03-15 08:18:00</th>\n",
       "      <td>754</td>\n",
       "      <td>69.9</td>\n",
       "      <td>48.0</td>\n",
       "      <td>1015.2</td>\n",
       "    </tr>\n",
       "    <tr>\n",
       "      <th>2024-03-15 08:19:00</th>\n",
       "      <td>763</td>\n",
       "      <td>69.9</td>\n",
       "      <td>48.0</td>\n",
       "      <td>1015.2</td>\n",
       "    </tr>\n",
       "    <tr>\n",
       "      <th>2024-03-15 08:20:00</th>\n",
       "      <td>749</td>\n",
       "      <td>69.8</td>\n",
       "      <td>48.0</td>\n",
       "      <td>1015.2</td>\n",
       "    </tr>\n",
       "    <tr>\n",
       "      <th>2024-03-15 08:21:00</th>\n",
       "      <td>728</td>\n",
       "      <td>69.9</td>\n",
       "      <td>48.0</td>\n",
       "      <td>1015.1</td>\n",
       "    </tr>\n",
       "    <tr>\n",
       "      <th>2024-03-15 08:21:00</th>\n",
       "      <td>760</td>\n",
       "      <td>69.9</td>\n",
       "      <td>48.0</td>\n",
       "      <td>1015.2</td>\n",
       "    </tr>\n",
       "    <tr>\n",
       "      <th>2024-03-15 08:22:00</th>\n",
       "      <td>767</td>\n",
       "      <td>70.0</td>\n",
       "      <td>48.0</td>\n",
       "      <td>1015.1</td>\n",
       "    </tr>\n",
       "    <tr>\n",
       "      <th>2024-03-15 08:23:00</th>\n",
       "      <td>773</td>\n",
       "      <td>70.0</td>\n",
       "      <td>48.0</td>\n",
       "      <td>1015.2</td>\n",
       "    </tr>\n",
       "    <tr>\n",
       "      <th>2024-03-15 08:24:00</th>\n",
       "      <td>791</td>\n",
       "      <td>70.0</td>\n",
       "      <td>48.0</td>\n",
       "      <td>1015.2</td>\n",
       "    </tr>\n",
       "    <tr>\n",
       "      <th>2024-03-15 08:25:00</th>\n",
       "      <td>772</td>\n",
       "      <td>70.1</td>\n",
       "      <td>48.0</td>\n",
       "      <td>1015.3</td>\n",
       "    </tr>\n",
       "    <tr>\n",
       "      <th>2024-03-15 08:26:00</th>\n",
       "      <td>722</td>\n",
       "      <td>70.1</td>\n",
       "      <td>48.0</td>\n",
       "      <td>1015.2</td>\n",
       "    </tr>\n",
       "    <tr>\n",
       "      <th>2024-03-15 08:27:00</th>\n",
       "      <td>737</td>\n",
       "      <td>70.1</td>\n",
       "      <td>48.0</td>\n",
       "      <td>1015.2</td>\n",
       "    </tr>\n",
       "    <tr>\n",
       "      <th>2024-03-15 08:28:00</th>\n",
       "      <td>709</td>\n",
       "      <td>70.1</td>\n",
       "      <td>48.0</td>\n",
       "      <td>1015.2</td>\n",
       "    </tr>\n",
       "    <tr>\n",
       "      <th>2024-03-15 08:29:00</th>\n",
       "      <td>679</td>\n",
       "      <td>70.0</td>\n",
       "      <td>48.0</td>\n",
       "      <td>1015.3</td>\n",
       "    </tr>\n",
       "    <tr>\n",
       "      <th>2024-03-15 08:30:00</th>\n",
       "      <td>722</td>\n",
       "      <td>70.0</td>\n",
       "      <td>48.0</td>\n",
       "      <td>1015.2</td>\n",
       "    </tr>\n",
       "  </tbody>\n",
       "</table>\n",
       "</div>"
      ],
      "text/plain": [
       "                     Carbon dioxide(ppm)  Temperature(°F)  \\\n",
       "Datetime                                                    \n",
       "2024-03-15 08:15:00                  757             69.9   \n",
       "2024-03-15 08:16:00                  748             69.8   \n",
       "2024-03-15 08:17:00                  755             69.9   \n",
       "2024-03-15 08:18:00                  754             69.9   \n",
       "2024-03-15 08:19:00                  763             69.9   \n",
       "2024-03-15 08:20:00                  749             69.8   \n",
       "2024-03-15 08:21:00                  728             69.9   \n",
       "2024-03-15 08:21:00                  760             69.9   \n",
       "2024-03-15 08:22:00                  767             70.0   \n",
       "2024-03-15 08:23:00                  773             70.0   \n",
       "2024-03-15 08:24:00                  791             70.0   \n",
       "2024-03-15 08:25:00                  772             70.1   \n",
       "2024-03-15 08:26:00                  722             70.1   \n",
       "2024-03-15 08:27:00                  737             70.1   \n",
       "2024-03-15 08:28:00                  709             70.1   \n",
       "2024-03-15 08:29:00                  679             70.0   \n",
       "2024-03-15 08:30:00                  722             70.0   \n",
       "\n",
       "                     Relative humidity(%)  Atmospheric pressure(hPa)  \n",
       "Datetime                                                              \n",
       "2024-03-15 08:15:00                  48.0                     1015.2  \n",
       "2024-03-15 08:16:00                  48.0                     1015.2  \n",
       "2024-03-15 08:17:00                  48.0                     1015.3  \n",
       "2024-03-15 08:18:00                  48.0                     1015.2  \n",
       "2024-03-15 08:19:00                  48.0                     1015.2  \n",
       "2024-03-15 08:20:00                  48.0                     1015.2  \n",
       "2024-03-15 08:21:00                  48.0                     1015.1  \n",
       "2024-03-15 08:21:00                  48.0                     1015.2  \n",
       "2024-03-15 08:22:00                  48.0                     1015.1  \n",
       "2024-03-15 08:23:00                  48.0                     1015.2  \n",
       "2024-03-15 08:24:00                  48.0                     1015.2  \n",
       "2024-03-15 08:25:00                  48.0                     1015.3  \n",
       "2024-03-15 08:26:00                  48.0                     1015.2  \n",
       "2024-03-15 08:27:00                  48.0                     1015.2  \n",
       "2024-03-15 08:28:00                  48.0                     1015.2  \n",
       "2024-03-15 08:29:00                  48.0                     1015.3  \n",
       "2024-03-15 08:30:00                  48.0                     1015.2  "
      ]
     },
     "execution_count": 25,
     "metadata": {},
     "output_type": "execute_result"
    }
   ],
   "source": [
    "aranet4_sub.loc['2024-03-15 08:15:00':'2024-03-15 08:30:00']"
   ]
  },
  {
   "cell_type": "code",
   "execution_count": 30,
   "metadata": {},
   "outputs": [
    {
     "name": "stdout",
     "output_type": "stream",
     "text": [
      "<class 'pandas.core.frame.DataFrame'>\n",
      "DatetimeIndex: 15 entries, 2024-03-17 00:09:00 to 2024-04-10 22:33:00\n",
      "Data columns (total 4 columns):\n",
      " #   Column                     Non-Null Count  Dtype  \n",
      "---  ------                     --------------  -----  \n",
      " 0   Carbon dioxide(ppm)        15 non-null     int64  \n",
      " 1   Temperature(°F)            15 non-null     float64\n",
      " 2   Relative humidity(%)       15 non-null     float64\n",
      " 3   Atmospheric pressure(hPa)  15 non-null     float64\n",
      "dtypes: float64(3), int64(1)\n",
      "memory usage: 600.0 bytes\n"
     ]
    }
   ],
   "source": [
    "import pandas as pd\n",
    "\n",
    "# Calculate the time difference between consecutive records\n",
    "time_diff = aranet4_sub.index.to_series().diff()\n",
    "\n",
    "# Find the indices where the time difference is greater than 1 minute\n",
    "one_minute_gaps = time_diff > pd.Timedelta(minutes=1)\n",
    "\n",
    "# Filter the DataFrame to only include the records immediately after the gaps greater than 1 minute\n",
    "one_minute_gaps_df = aranet4_sub[one_minute_gaps]\n",
    "\n",
    "one_minute_gaps_df.info()\n"
   ]
  },
  {
   "cell_type": "code",
   "execution_count": null,
   "metadata": {},
   "outputs": [],
   "source": []
  }
 ],
 "metadata": {
  "kernelspec": {
   "display_name": "Python 3",
   "language": "python",
   "name": "python3"
  },
  "language_info": {
   "codemirror_mode": {
    "name": "ipython",
    "version": 3
   },
   "file_extension": ".py",
   "mimetype": "text/x-python",
   "name": "python",
   "nbconvert_exporter": "python",
   "pygments_lexer": "ipython3",
   "version": "3.9.7"
  }
 },
 "nbformat": 4,
 "nbformat_minor": 2
}
