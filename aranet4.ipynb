{
 "cells": [
  {
   "cell_type": "code",
   "execution_count": 3,
   "id": "f1c971cd",
   "metadata": {},
   "outputs": [
    {
     "name": "stdout",
     "output_type": "stream",
     "text": [
      "Files in the 'datasets' subdirectory:\n",
      "Aranet4 2441A_2024-03-20T16_05_03-0400.csv\n",
      "aranet4.csv\n",
      "aranetExp.csv\n"
     ]
    }
   ],
   "source": [
    "import os\n",
    "import pandas as pd\n",
    "# List all files and directories in the current directory\n",
    "all_files = os.listdir('.')\n",
    "\n",
    "# Navigate to the \"datasets\" subdirectory\n",
    "datasets_dir = 'datasets'\n",
    "if datasets_dir in all_files and os.path.isdir(datasets_dir):\n",
    "    os.chdir(datasets_dir)\n",
    "\n",
    "# List all files and directories in the \"datasets\" subdirectory\n",
    "datasets_files = os.listdir('.')\n",
    "print(\"Files in the 'datasets' subdirectory:\")\n",
    "for filename in datasets_files:\n",
    "    print(filename)\n"
   ]
  },
  {
   "cell_type": "code",
   "execution_count": 8,
   "id": "23015add",
   "metadata": {},
   "outputs": [],
   "source": [
    "import os\n",
    "\n",
    "filename = '../datasets/Aranet4 2441A_2024-03-20T16_05_03-0400.csv'\n",
    "if os.path.isfile(filename):\n",
    "    df = pd.read_csv(filename)\n",
    "    aranet4 = df.copy()\n",
    "    aranet4.head()\n",
    "else:\n",
    "    print(\"File not found: \", filename)\n"
   ]
  },
  {
   "cell_type": "code",
   "execution_count": 9,
   "id": "168f87ae",
   "metadata": {},
   "outputs": [
    {
     "data": {
      "text/html": [
       "<div>\n",
       "<style scoped>\n",
       "    .dataframe tbody tr th:only-of-type {\n",
       "        vertical-align: middle;\n",
       "    }\n",
       "\n",
       "    .dataframe tbody tr th {\n",
       "        vertical-align: top;\n",
       "    }\n",
       "\n",
       "    .dataframe thead th {\n",
       "        text-align: right;\n",
       "    }\n",
       "</style>\n",
       "<table border=\"1\" class=\"dataframe\">\n",
       "  <thead>\n",
       "    <tr style=\"text-align: right;\">\n",
       "      <th></th>\n",
       "      <th>Carbon dioxide(ppm)</th>\n",
       "      <th>Temperature(°F)</th>\n",
       "      <th>Relative humidity(%)</th>\n",
       "      <th>Atmospheric pressure(hPa)</th>\n",
       "      <th>Date</th>\n",
       "      <th>Time</th>\n",
       "      <th>Datetime</th>\n",
       "    </tr>\n",
       "  </thead>\n",
       "  <tbody>\n",
       "    <tr>\n",
       "      <th>4</th>\n",
       "      <td>1014</td>\n",
       "      <td>77.8</td>\n",
       "      <td>47.0</td>\n",
       "      <td>1007.3</td>\n",
       "      <td>01/12/2024</td>\n",
       "      <td>16:08:15</td>\n",
       "      <td>2024-01-12 16:08:15</td>\n",
       "    </tr>\n",
       "    <tr>\n",
       "      <th>5</th>\n",
       "      <td>884</td>\n",
       "      <td>78.5</td>\n",
       "      <td>46.0</td>\n",
       "      <td>1007.3</td>\n",
       "      <td>01/12/2024</td>\n",
       "      <td>16:09:15</td>\n",
       "      <td>2024-01-12 16:09:15</td>\n",
       "    </tr>\n",
       "    <tr>\n",
       "      <th>6</th>\n",
       "      <td>914</td>\n",
       "      <td>79.7</td>\n",
       "      <td>43.0</td>\n",
       "      <td>1007.4</td>\n",
       "      <td>01/12/2024</td>\n",
       "      <td>16:10:15</td>\n",
       "      <td>2024-01-12 16:10:15</td>\n",
       "    </tr>\n",
       "    <tr>\n",
       "      <th>7</th>\n",
       "      <td>906</td>\n",
       "      <td>79.7</td>\n",
       "      <td>42.0</td>\n",
       "      <td>1007.2</td>\n",
       "      <td>01/12/2024</td>\n",
       "      <td>16:11:15</td>\n",
       "      <td>2024-01-12 16:11:15</td>\n",
       "    </tr>\n",
       "    <tr>\n",
       "      <th>8</th>\n",
       "      <td>896</td>\n",
       "      <td>79.3</td>\n",
       "      <td>41.0</td>\n",
       "      <td>1007.3</td>\n",
       "      <td>01/12/2024</td>\n",
       "      <td>16:12:15</td>\n",
       "      <td>2024-01-12 16:12:15</td>\n",
       "    </tr>\n",
       "    <tr>\n",
       "      <th>9</th>\n",
       "      <td>862</td>\n",
       "      <td>78.6</td>\n",
       "      <td>41.0</td>\n",
       "      <td>1007.1</td>\n",
       "      <td>01/12/2024</td>\n",
       "      <td>16:13:15</td>\n",
       "      <td>2024-01-12 16:13:15</td>\n",
       "    </tr>\n",
       "    <tr>\n",
       "      <th>10</th>\n",
       "      <td>917</td>\n",
       "      <td>78.1</td>\n",
       "      <td>41.0</td>\n",
       "      <td>1007.2</td>\n",
       "      <td>01/12/2024</td>\n",
       "      <td>16:14:15</td>\n",
       "      <td>2024-01-12 16:14:15</td>\n",
       "    </tr>\n",
       "    <tr>\n",
       "      <th>11</th>\n",
       "      <td>897</td>\n",
       "      <td>77.5</td>\n",
       "      <td>41.0</td>\n",
       "      <td>1007.1</td>\n",
       "      <td>01/12/2024</td>\n",
       "      <td>16:15:15</td>\n",
       "      <td>2024-01-12 16:15:15</td>\n",
       "    </tr>\n",
       "    <tr>\n",
       "      <th>12</th>\n",
       "      <td>883</td>\n",
       "      <td>76.9</td>\n",
       "      <td>41.0</td>\n",
       "      <td>1007.2</td>\n",
       "      <td>01/12/2024</td>\n",
       "      <td>16:16:15</td>\n",
       "      <td>2024-01-12 16:16:15</td>\n",
       "    </tr>\n",
       "    <tr>\n",
       "      <th>13</th>\n",
       "      <td>893</td>\n",
       "      <td>76.5</td>\n",
       "      <td>42.0</td>\n",
       "      <td>1007.1</td>\n",
       "      <td>01/12/2024</td>\n",
       "      <td>16:17:15</td>\n",
       "      <td>2024-01-12 16:17:15</td>\n",
       "    </tr>\n",
       "  </tbody>\n",
       "</table>\n",
       "</div>"
      ],
      "text/plain": [
       "    Carbon dioxide(ppm)  Temperature(°F)  Relative humidity(%)  \\\n",
       "4                  1014             77.8                  47.0   \n",
       "5                   884             78.5                  46.0   \n",
       "6                   914             79.7                  43.0   \n",
       "7                   906             79.7                  42.0   \n",
       "8                   896             79.3                  41.0   \n",
       "9                   862             78.6                  41.0   \n",
       "10                  917             78.1                  41.0   \n",
       "11                  897             77.5                  41.0   \n",
       "12                  883             76.9                  41.0   \n",
       "13                  893             76.5                  42.0   \n",
       "\n",
       "    Atmospheric pressure(hPa)        Date      Time            Datetime  \n",
       "4                      1007.3  01/12/2024  16:08:15 2024-01-12 16:08:15  \n",
       "5                      1007.3  01/12/2024  16:09:15 2024-01-12 16:09:15  \n",
       "6                      1007.4  01/12/2024  16:10:15 2024-01-12 16:10:15  \n",
       "7                      1007.2  01/12/2024  16:11:15 2024-01-12 16:11:15  \n",
       "8                      1007.3  01/12/2024  16:12:15 2024-01-12 16:12:15  \n",
       "9                      1007.1  01/12/2024  16:13:15 2024-01-12 16:13:15  \n",
       "10                     1007.2  01/12/2024  16:14:15 2024-01-12 16:14:15  \n",
       "11                     1007.1  01/12/2024  16:15:15 2024-01-12 16:15:15  \n",
       "12                     1007.2  01/12/2024  16:16:15 2024-01-12 16:16:15  \n",
       "13                     1007.1  01/12/2024  16:17:15 2024-01-12 16:17:15  "
      ]
     },
     "execution_count": 9,
     "metadata": {},
     "output_type": "execute_result"
    }
   ],
   "source": [
    "def clean_datetime_column(df, column_name):\n",
    "    # Convert the column to datetime format\n",
    "    df[column_name] = pd.to_datetime(df[column_name], format='%d/%m/%Y %I:%M:%S %p')\n",
    "    \n",
    "    # Create separate 'Date' and 'Time' columns in the desired formats\n",
    "    df['Date'] = df[column_name].dt.strftime('%m/%d/%Y')\n",
    "    df['Time'] = df[column_name].dt.strftime('%H:%M:%S')\n",
    "    # Ensure the Date and Time columns are of type string\n",
    "    df['Date'] = df['Date'].astype(str)\n",
    "    df['Time'] = df['Time'].astype(str)\n",
    "\n",
    "    # Combine Date and Time into a single datetime column\n",
    "    df['Datetime'] = pd.to_datetime(df['Date'] + ' ' + df['Time'])\n",
    "    # Drop the original column\n",
    "    df.drop(column_name, axis=1, inplace=True)\n",
    "    return df\n",
    "\n",
    "# Clean the date-time column\n",
    "aranet4 = clean_datetime_column(aranet4, 'Time(DD/MM/YYYY h:mm:ss A)')\n",
    "aranet4 = aranet4.drop(aranet4.index[:4])\n",
    "aranet4.head(10)"
   ]
  },
  {
   "cell_type": "code",
   "execution_count": 10,
   "id": "956e5d39",
   "metadata": {},
   "outputs": [],
   "source": [
    "aranet4.to_csv('../datasets/aranet4.csv', index=False)"
   ]
  },
  {
   "cell_type": "code",
   "execution_count": 11,
   "id": "55d5461d",
   "metadata": {},
   "outputs": [],
   "source": [
    "import sqlalchemy as sql\n",
    "from sqlalchemy import create_engine, MetaData, Table, Column, Integer, String, Text, delete, insert, DateTime, Float, Boolean, select, distinct, inspect, Time\n",
    "from datetime import datetime\n",
    "\n",
    "# Set the DATABASE_URL environment variable\n",
    "DATABASE_URL = os.environ.get(\"DATABASE_URL\")\n",
    "if DATABASE_URL.startswith(\"postgres://\"):\n",
    "    DATABASE_URL = DATABASE_URL.replace(\"postgres://\", \"postgresql://\", 1)\n",
    "\n",
    "# Create the database engine\n",
    "engine = sql.create_engine(DATABASE_URL)\n",
    "\n",
    "metadata = MetaData(bind = engine)\n"
   ]
  },
  {
   "cell_type": "code",
   "execution_count": 13,
   "id": "ddf12ee4",
   "metadata": {},
   "outputs": [
    {
     "data": {
      "text/plain": [
       "857"
      ]
     },
     "execution_count": 13,
     "metadata": {},
     "output_type": "execute_result"
    }
   ],
   "source": [
    "aranet4.to_sql('aranet4', engine, if_exists='replace', index=False)\n"
   ]
  },
  {
   "cell_type": "code",
   "execution_count": 17,
   "id": "8a236d13",
   "metadata": {},
   "outputs": [],
   "source": [
    "metadata = MetaData()\n",
    "# Query\n",
    "def query(sql_query):\n",
    "    data = pd.read_sql_query(sql_query, engine)\n",
    "    data.index += 1\n",
    "    return data\n",
    "\n",
    "q = \"\"\"\n",
    "SELECT *\n",
    "FROM aranet_lecture_data\n",
    "\"\"\"\n",
    "\n",
    "aranetExp = query(q)\n",
    "aranetExp.to_csv('../datasets/aranetExp.csv', index=False)\n"
   ]
  }
 ],
 "metadata": {
  "kernelspec": {
   "display_name": "Python 3 (ipykernel)",
   "language": "python",
   "name": "python3"
  },
  "language_info": {
   "codemirror_mode": {
    "name": "ipython",
    "version": 3
   },
   "file_extension": ".py",
   "mimetype": "text/x-python",
   "name": "python",
   "nbconvert_exporter": "python",
   "pygments_lexer": "ipython3",
   "version": "3.11.4"
  },
  "toc": {
   "base_numbering": 1,
   "nav_menu": {},
   "number_sections": true,
   "sideBar": true,
   "skip_h1_title": false,
   "title_cell": "Table of Contents",
   "title_sidebar": "Contents",
   "toc_cell": false,
   "toc_position": {},
   "toc_section_display": true,
   "toc_window_display": false
  },
  "varInspector": {
   "cols": {
    "lenName": 16,
    "lenType": 16,
    "lenVar": 40
   },
   "kernels_config": {
    "python": {
     "delete_cmd_postfix": "",
     "delete_cmd_prefix": "del ",
     "library": "var_list.py",
     "varRefreshCmd": "print(var_dic_list())"
    },
    "r": {
     "delete_cmd_postfix": ") ",
     "delete_cmd_prefix": "rm(",
     "library": "var_list.r",
     "varRefreshCmd": "cat(var_dic_list()) "
    }
   },
   "types_to_exclude": [
    "module",
    "function",
    "builtin_function_or_method",
    "instance",
    "_Feature"
   ],
   "window_display": false
  }
 },
 "nbformat": 4,
 "nbformat_minor": 5
}
