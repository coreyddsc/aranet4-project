{
 "cells": [
  {
   "cell_type": "code",
   "execution_count": 1,
   "metadata": {},
   "outputs": [],
   "source": [
    "import pandas as pd\n",
    "# import numpy as np\n",
    "import json\n",
    "import os\n",
    "import re\n"
   ]
  },
  {
   "cell_type": "code",
   "execution_count": 5,
   "metadata": {},
   "outputs": [],
   "source": [
    "aranetExp_path = \"./datasets/aranetExp.csv\"\n",
    "aranet4_path = \"./datasets/aranet4.csv\"\n",
    "\n",
    "aranetExp = pd.read_csv(aranetExp_path)\n",
    "aranet4 = pd.read_csv(aranet4_path)\n"
   ]
  },
  {
   "cell_type": "markdown",
   "metadata": {},
   "source": [
    "Here's a plan for the function:\n",
    "\n",
    "1. Define a function `calculate_rolling` that takes four parameters: `dataframe`, `column_names`, `window_sizes`, and `operations`.\n",
    "2. Inside the function, iterate over each `column_name` in `column_names`.\n",
    "3. For each `column_name`, iterate over each `window_size` in `window_sizes`.\n",
    "4. For each `window_size`, iterate over each `operation` in `operations`.\n",
    "5. For each `operation`, calculate the rolling operation of the `column_name` with the `window_size` using the `rolling` method of the dataframe.\n",
    "6. Use an if-elif-else statement to decide which operation to apply based on the `operation` parameter.\n",
    "7. Store the result in a new column in the dataframe with a name that combines the `column_name`, `window_size`, and `operation`.\n",
    "8. After all iterations, return the modified dataframe.\n",
    "\n",
    "Here's the Python code for the function:\n",
    "\n"
   ]
  },
  {
   "cell_type": "code",
   "execution_count": 6,
   "metadata": {},
   "outputs": [],
   "source": [
    "def calculate_rolling(dataframe, column_names, window_sizes, operations):\n",
    "    for column_name in column_names:\n",
    "        for window_size in window_sizes:\n",
    "            for operation in operations:\n",
    "                try:\n",
    "                    dataframe[f'{column_name}_rolling_{operation}_{window_size}'] = getattr(dataframe[column_name].rolling(window=window_size, min_periods=1), operation)()\n",
    "                except Exception as e:\n",
    "                    print(f\"Operation '{operation}' not supported: {str(e)}\")\n",
    "    return dataframe"
   ]
  },
  {
   "cell_type": "markdown",
   "metadata": {},
   "source": [
    "\n",
    "\n",
    "You can use this function with your `main_features` list, a list of window sizes, and a list of operations. For example:\n",
    "\n"
   ]
  },
  {
   "cell_type": "code",
   "execution_count": 7,
   "metadata": {},
   "outputs": [
    {
     "name": "stdout",
     "output_type": "stream",
     "text": [
      "<class 'pandas.core.frame.DataFrame'>\n",
      "RangeIndex: 97861 entries, 0 to 97860\n",
      "Data columns (total 87 columns):\n",
      " #   Column                                      Non-Null Count  Dtype  \n",
      "---  ------                                      --------------  -----  \n",
      " 0   Carbon dioxide(ppm)                         97861 non-null  int64  \n",
      " 1   Temperature(°F)                             97861 non-null  float64\n",
      " 2   Relative humidity(%)                        97808 non-null  float64\n",
      " 3   Atmospheric pressure(hPa)                   95339 non-null  float64\n",
      " 4   Date                                        97861 non-null  object \n",
      " 5   Time                                        97861 non-null  object \n",
      " 6   Datetime                                    97861 non-null  object \n",
      " 7   Carbon dioxide(ppm)_rolling_mean_5          97861 non-null  float64\n",
      " 8   Carbon dioxide(ppm)_rolling_max_5           97861 non-null  float64\n",
      " 9   Carbon dioxide(ppm)_rolling_sum_5           97861 non-null  float64\n",
      " 10  Carbon dioxide(ppm)_rolling_std_5           97860 non-null  float64\n",
      " 11  Carbon dioxide(ppm)_rolling_count_5         97861 non-null  float64\n",
      " 12  Carbon dioxide(ppm)_rolling_mean_15         97861 non-null  float64\n",
      " 13  Carbon dioxide(ppm)_rolling_max_15          97861 non-null  float64\n",
      " 14  Carbon dioxide(ppm)_rolling_sum_15          97861 non-null  float64\n",
      " 15  Carbon dioxide(ppm)_rolling_std_15          97860 non-null  float64\n",
      " 16  Carbon dioxide(ppm)_rolling_count_15        97861 non-null  float64\n",
      " 17  Carbon dioxide(ppm)_rolling_mean_30         97861 non-null  float64\n",
      " 18  Carbon dioxide(ppm)_rolling_max_30          97861 non-null  float64\n",
      " 19  Carbon dioxide(ppm)_rolling_sum_30          97861 non-null  float64\n",
      " 20  Carbon dioxide(ppm)_rolling_std_30          97860 non-null  float64\n",
      " 21  Carbon dioxide(ppm)_rolling_count_30        97861 non-null  float64\n",
      " 22  Carbon dioxide(ppm)_rolling_mean_60         97861 non-null  float64\n",
      " 23  Carbon dioxide(ppm)_rolling_max_60          97861 non-null  float64\n",
      " 24  Carbon dioxide(ppm)_rolling_sum_60          97861 non-null  float64\n",
      " 25  Carbon dioxide(ppm)_rolling_std_60          97860 non-null  float64\n",
      " 26  Carbon dioxide(ppm)_rolling_count_60        97861 non-null  float64\n",
      " 27  Temperature(°F)_rolling_mean_5              97861 non-null  float64\n",
      " 28  Temperature(°F)_rolling_max_5               97861 non-null  float64\n",
      " 29  Temperature(°F)_rolling_sum_5               97861 non-null  float64\n",
      " 30  Temperature(°F)_rolling_std_5               97860 non-null  float64\n",
      " 31  Temperature(°F)_rolling_count_5             97861 non-null  float64\n",
      " 32  Temperature(°F)_rolling_mean_15             97861 non-null  float64\n",
      " 33  Temperature(°F)_rolling_max_15              97861 non-null  float64\n",
      " 34  Temperature(°F)_rolling_sum_15              97861 non-null  float64\n",
      " 35  Temperature(°F)_rolling_std_15              97860 non-null  float64\n",
      " 36  Temperature(°F)_rolling_count_15            97861 non-null  float64\n",
      " 37  Temperature(°F)_rolling_mean_30             97861 non-null  float64\n",
      " 38  Temperature(°F)_rolling_max_30              97861 non-null  float64\n",
      " 39  Temperature(°F)_rolling_sum_30              97861 non-null  float64\n",
      " 40  Temperature(°F)_rolling_std_30              97860 non-null  float64\n",
      " 41  Temperature(°F)_rolling_count_30            97861 non-null  float64\n",
      " 42  Temperature(°F)_rolling_mean_60             97861 non-null  float64\n",
      " 43  Temperature(°F)_rolling_max_60              97861 non-null  float64\n",
      " 44  Temperature(°F)_rolling_sum_60              97861 non-null  float64\n",
      " 45  Temperature(°F)_rolling_std_60              97860 non-null  float64\n",
      " 46  Temperature(°F)_rolling_count_60            97861 non-null  float64\n",
      " 47  Relative humidity(%)_rolling_mean_5         97812 non-null  float64\n",
      " 48  Relative humidity(%)_rolling_max_5          97812 non-null  float64\n",
      " 49  Relative humidity(%)_rolling_sum_5          97812 non-null  float64\n",
      " 50  Relative humidity(%)_rolling_std_5          97809 non-null  float64\n",
      " 51  Relative humidity(%)_rolling_count_5        97861 non-null  float64\n",
      " 52  Relative humidity(%)_rolling_mean_15        97822 non-null  float64\n",
      " 53  Relative humidity(%)_rolling_max_15         97822 non-null  float64\n",
      " 54  Relative humidity(%)_rolling_sum_15         97822 non-null  float64\n",
      " 55  Relative humidity(%)_rolling_std_15         97819 non-null  float64\n",
      " 56  Relative humidity(%)_rolling_count_15       97861 non-null  float64\n",
      " 57  Relative humidity(%)_rolling_mean_30        97837 non-null  float64\n",
      " 58  Relative humidity(%)_rolling_max_30         97837 non-null  float64\n",
      " 59  Relative humidity(%)_rolling_sum_30         97837 non-null  float64\n",
      " 60  Relative humidity(%)_rolling_std_30         97834 non-null  float64\n",
      " 61  Relative humidity(%)_rolling_count_30       97861 non-null  float64\n",
      " 62  Relative humidity(%)_rolling_mean_60        97861 non-null  float64\n",
      " 63  Relative humidity(%)_rolling_max_60         97861 non-null  float64\n",
      " 64  Relative humidity(%)_rolling_sum_60         97861 non-null  float64\n",
      " 65  Relative humidity(%)_rolling_std_60         97860 non-null  float64\n",
      " 66  Relative humidity(%)_rolling_count_60       97861 non-null  float64\n",
      " 67  Atmospheric pressure(hPa)_rolling_mean_5    95344 non-null  float64\n",
      " 68  Atmospheric pressure(hPa)_rolling_max_5     95344 non-null  float64\n",
      " 69  Atmospheric pressure(hPa)_rolling_sum_5     95344 non-null  float64\n",
      " 70  Atmospheric pressure(hPa)_rolling_std_5     95341 non-null  float64\n",
      " 71  Atmospheric pressure(hPa)_rolling_count_5   97861 non-null  float64\n",
      " 72  Atmospheric pressure(hPa)_rolling_mean_15   95354 non-null  float64\n",
      " 73  Atmospheric pressure(hPa)_rolling_max_15    95354 non-null  float64\n",
      " 74  Atmospheric pressure(hPa)_rolling_sum_15    95354 non-null  float64\n",
      " 75  Atmospheric pressure(hPa)_rolling_std_15    95351 non-null  float64\n",
      " 76  Atmospheric pressure(hPa)_rolling_count_15  97861 non-null  float64\n",
      " 77  Atmospheric pressure(hPa)_rolling_mean_30   95369 non-null  float64\n",
      " 78  Atmospheric pressure(hPa)_rolling_max_30    95369 non-null  float64\n",
      " 79  Atmospheric pressure(hPa)_rolling_sum_30    95369 non-null  float64\n",
      " 80  Atmospheric pressure(hPa)_rolling_std_30    95366 non-null  float64\n",
      " 81  Atmospheric pressure(hPa)_rolling_count_30  97861 non-null  float64\n",
      " 82  Atmospheric pressure(hPa)_rolling_mean_60   95399 non-null  float64\n",
      " 83  Atmospheric pressure(hPa)_rolling_max_60    95399 non-null  float64\n",
      " 84  Atmospheric pressure(hPa)_rolling_sum_60    95399 non-null  float64\n",
      " 85  Atmospheric pressure(hPa)_rolling_std_60    95396 non-null  float64\n",
      " 86  Atmospheric pressure(hPa)_rolling_count_60  97861 non-null  float64\n",
      "dtypes: float64(83), int64(1), object(3)\n",
      "memory usage: 65.0+ MB\n"
     ]
    }
   ],
   "source": [
    "main_features = ['Carbon dioxide(ppm)', 'Temperature(°F)', 'Relative humidity(%)', 'Atmospheric pressure(hPa)']\n",
    "window_sizes = [5, 15, 30, 60]\n",
    "operations = ['mean', 'max', 'sum', 'std', 'count']\n",
    "aranet4_mod = aranet4.copy()\n",
    "aranet4_mod = calculate_rolling(aranet4_mod, main_features, window_sizes, operations)\n",
    "\n",
    "aranet4_mod.info()"
   ]
  },
  {
   "cell_type": "markdown",
   "metadata": {},
   "source": [
    "The `rolling` function in pandas provides a variety of operations that can be performed on a rolling window of data. Here are some of them:\n",
    "\n",
    "1. `mean()`: Compute the rolling mean of the data.\n",
    "2. `sum()`: Compute the rolling sum of the data.\n",
    "3. `min()`: Compute the rolling minimum of the data.\n",
    "4. `max()`: Compute the rolling maximum of the data.\n",
    "5. `std()`: Compute the rolling standard deviation of the data.\n",
    "6. `var()`: Compute the rolling variance of the data.\n",
    "7. `median()`: Compute the rolling median of the data.\n",
    "8. `quantile()`: Compute the rolling quantile of the data.\n",
    "9. `apply()`: Apply a function of your choice to the rolling window of data.\n",
    "10. `corr()`: Compute the rolling correlation between two series.\n",
    "11. `cov()`: Compute the rolling covariance between two series.\n",
    "12. `skew()`: Compute the rolling skewness of the data.\n",
    "13. `kurt()`: Compute the rolling kurtosis of the data.\n",
    "14. `count()`: Count the number of non-NA values in the rolling window of data.\n",
    "\n",
    "You can modify the `calculate_rolling` function to include any of these operations."
   ]
  },
  {
   "cell_type": "markdown",
   "metadata": {},
   "source": [
    "We can likewise use the `diff()` method to track the minute-to-minute differences in between records. This is effectively measureing the minute-to-minute rate of change. Because our smallest measurement of time is units of minutes, we use this as our smallest measure for our difference calculus. The distribution of the minute-to-minute rate of change values is approximately normal and centered about mean zero.\n",
    "\n",
    "- `diff(1)` is the `one` minute difference (or the difference of the current record with the `1st` previous record).\n",
    "- `diff(2)` is the `two` minute difference (or the difference of the current record with `2nd` previous record).\n",
    "- `diff(n)` is the `n` minute difference (or the difference of the current record with `nth` previous record).\n",
    "\n",
    "\n",
    "I question whether anything  beyond `diff(5)` is relevant. What is interesting is the pattern formed by tracking the consecutive magnitude and sign of the difference. Much of this can be captured with `diff(1)` alone though and watching the rolling statistics as well as the sign change patterns of `diff(1)`\n",
    "\n",
    "We can additionally take the difference of the difference which could lead to patterns of continuous accelerated change in the monitored features.\n",
    "\n",
    "Given the structure of our air monitor and the fact it is stable and note moving the vast majority of the time, we can also consider this be the a measure of a volume or cross-section of the air-flow through (into) the sensor chamber. The difference being a measure of the finite difference velocity at which `CO2 (ppm)` flows into, out of, or not at all from minute to minute. The second difference is the finite difference acceleration."
   ]
  },
  {
   "cell_type": "code",
   "execution_count": 50,
   "metadata": {},
   "outputs": [
    {
     "name": "stdout",
     "output_type": "stream",
     "text": [
      "   Position  Velocity  Acceleration\n",
      "0         1       NaN           NaN\n",
      "1         2       1.0           NaN\n",
      "2         4       2.0           1.0\n",
      "3         7       3.0           1.0\n",
      "4        11       4.0           1.0\n",
      "5        16       5.0           1.0\n"
     ]
    }
   ],
   "source": [
    "import pandas as pd\n",
    "\n",
    "# Create a time series\n",
    "df = pd.DataFrame({'Position': [1, 2, 4, 7, 11, 16]})\n",
    "\n",
    "# Calculate the first difference (velocity)\n",
    "df['Velocity'] = df['Position'].diff()\n",
    "\n",
    "# Calculate the second difference (acceleration)\n",
    "df['Acceleration'] = df['Velocity'].diff()\n",
    "\n",
    "print(df)"
   ]
  },
  {
   "cell_type": "markdown",
   "metadata": {},
   "source": [
    "\n",
    "We want to make a function similar to `calculate_rolling()` for `calculate_diff()`."
   ]
  },
  {
   "cell_type": "code",
   "execution_count": 8,
   "metadata": {},
   "outputs": [],
   "source": [
    "def calculate_diff(dataframe, column_names, window_sizes):\n",
    "    for column_name in column_names:\n",
    "        for window_size in window_sizes:\n",
    "            dataframe[f'{column_name}_diff_{window_size}'] = dataframe[column_name].diff(periods=window_size)\n",
    "    return dataframe"
   ]
  },
  {
   "cell_type": "code",
   "execution_count": 9,
   "metadata": {},
   "outputs": [
    {
     "name": "stdout",
     "output_type": "stream",
     "text": [
      "<class 'pandas.core.frame.DataFrame'>\n",
      "RangeIndex: 97861 entries, 0 to 97860\n",
      "Data columns (total 9 columns):\n",
      " #   Column                             Non-Null Count  Dtype  \n",
      "---  ------                             --------------  -----  \n",
      " 0   Carbon dioxide(ppm)                97861 non-null  int64  \n",
      " 1   Temperature(°F)                    97861 non-null  float64\n",
      " 2   Relative humidity(%)               97808 non-null  float64\n",
      " 3   Atmospheric pressure(hPa)          95339 non-null  float64\n",
      " 4   Date                               97861 non-null  object \n",
      " 5   Time                               97861 non-null  object \n",
      " 6   Datetime                           97861 non-null  object \n",
      " 7   Carbon dioxide(ppm)_diff_1         97860 non-null  float64\n",
      " 8   Carbon dioxide(ppm)_diff_1_diff_1  97859 non-null  float64\n",
      "dtypes: float64(5), int64(1), object(3)\n",
      "memory usage: 6.7+ MB\n"
     ]
    }
   ],
   "source": [
    "\n",
    "main_features = ['Carbon dioxide(ppm)']\n",
    "                #  , 'Temperature(°F)', 'Relative humidity(%)', 'Atmospheric pressure(hPa)']\n",
    "window_sizes = [1]\n",
    "                # , 2, 3, 4, 5]\n",
    "\n",
    "# operations = ['mean', 'max', 'sum', 'std', 'count']\n",
    "\n",
    "# Calculate the first difference (velocity)\n",
    "aranet4_diff = aranet4.copy()\n",
    "aranet4_diff = calculate_diff(aranet4_diff, main_features, window_sizes)\n",
    "\n",
    "# Calculate the second difference (acceleration)\n",
    "main_features= ['Carbon dioxide(ppm)_diff_1']\n",
    "aranet4_diff = calculate_diff(aranet4_diff, main_features, window_sizes)\n",
    "aranet4_diff.info()"
   ]
  },
  {
   "cell_type": "code",
   "execution_count": 10,
   "metadata": {},
   "outputs": [],
   "source": [
    "main_features = ['Carbon dioxide(ppm)', 'Carbon dioxide(ppm)_diff_1', 'Carbon dioxide(ppm)_diff_1_diff_1']\n",
    "                #  , 'Temperature(°F)', 'Relative humidity(%)', 'Atmospheric pressure(hPa)']\n",
    "window_sizes = [5]\n",
    "\n",
    "operations = ['mean', 'max', 'sum', 'std']\n",
    "\n",
    "aranet4_diff_rolling = aranet4_diff.copy()\n",
    "\n",
    "aranet4_diff_rolling = calculate_rolling(aranet4_diff_rolling, main_features, window_sizes, operations)\n"
   ]
  },
  {
   "cell_type": "code",
   "execution_count": 11,
   "metadata": {},
   "outputs": [
    {
     "name": "stdout",
     "output_type": "stream",
     "text": [
      "<class 'pandas.core.frame.DataFrame'>\n",
      "RangeIndex: 97861 entries, 0 to 97860\n",
      "Data columns (total 21 columns):\n",
      " #   Column                                            Non-Null Count  Dtype  \n",
      "---  ------                                            --------------  -----  \n",
      " 0   Carbon dioxide(ppm)                               97861 non-null  int64  \n",
      " 1   Temperature(°F)                                   97861 non-null  float64\n",
      " 2   Relative humidity(%)                              97808 non-null  float64\n",
      " 3   Atmospheric pressure(hPa)                         95339 non-null  float64\n",
      " 4   Date                                              97861 non-null  object \n",
      " 5   Time                                              97861 non-null  object \n",
      " 6   Datetime                                          97861 non-null  object \n",
      " 7   Carbon dioxide(ppm)_diff_1                        97860 non-null  float64\n",
      " 8   Carbon dioxide(ppm)_diff_1_diff_1                 97859 non-null  float64\n",
      " 9   Carbon dioxide(ppm)_rolling_mean_5                97861 non-null  float64\n",
      " 10  Carbon dioxide(ppm)_rolling_max_5                 97861 non-null  float64\n",
      " 11  Carbon dioxide(ppm)_rolling_sum_5                 97861 non-null  float64\n",
      " 12  Carbon dioxide(ppm)_rolling_std_5                 97860 non-null  float64\n",
      " 13  Carbon dioxide(ppm)_diff_1_rolling_mean_5         97860 non-null  float64\n",
      " 14  Carbon dioxide(ppm)_diff_1_rolling_max_5          97860 non-null  float64\n",
      " 15  Carbon dioxide(ppm)_diff_1_rolling_sum_5          97860 non-null  float64\n",
      " 16  Carbon dioxide(ppm)_diff_1_rolling_std_5          97859 non-null  float64\n",
      " 17  Carbon dioxide(ppm)_diff_1_diff_1_rolling_mean_5  97859 non-null  float64\n",
      " 18  Carbon dioxide(ppm)_diff_1_diff_1_rolling_max_5   97859 non-null  float64\n",
      " 19  Carbon dioxide(ppm)_diff_1_diff_1_rolling_sum_5   97859 non-null  float64\n",
      " 20  Carbon dioxide(ppm)_diff_1_diff_1_rolling_std_5   97858 non-null  float64\n",
      "dtypes: float64(17), int64(1), object(3)\n",
      "memory usage: 15.7+ MB\n"
     ]
    }
   ],
   "source": [
    "aranet4_diff_rolling.info()"
   ]
  }
 ],
 "metadata": {
  "kernelspec": {
   "display_name": "venv",
   "language": "python",
   "name": "python3"
  },
  "language_info": {
   "codemirror_mode": {
    "name": "ipython",
    "version": 3
   },
   "file_extension": ".py",
   "mimetype": "text/x-python",
   "name": "python",
   "nbconvert_exporter": "python",
   "pygments_lexer": "ipython3",
   "version": "3.9.7"
  }
 },
 "nbformat": 4,
 "nbformat_minor": 2
}
